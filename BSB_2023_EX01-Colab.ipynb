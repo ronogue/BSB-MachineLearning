{
 "cells": [
  {
   "cell_type": "markdown",
   "metadata": {
    "id": "GCBouAgYen2S"
   },
   "source": [
    "### Parte Prática 1: classificação\n",
    "\n",
    "#### Brazilian Symposium on Bioinformatics (BSB) 2023\n",
    "\n",
    "Copyright (C) 2023 Marcelo S. Reis, Ronaldo Nogueira and Cristiano Campos.\n",
    "\n",
    "<a href=\"mailto:msreis@ic.unicamp.br\">msreis@ic.unicamp.br</a>\n",
    "\n",
    "This program is free software: you can redistribute it and/or modify it under the terms of the GNU General Public License as published by the Free Software Foundation, either version 3 of the License, or (at your option) any later version.\n",
    "\n",
    "This program is distributed in the hope that it will be useful, but WITHOUT ANY WARRANTY; without even the implied warranty of MERCHANTABILITY or FITNESS FOR A PARTICULAR PURPOSE. See the GNU General Public License for more details.\n",
    "\n",
    "You should have received a copy of the GNU General Public License along with this program. If not, see http://www.gnu.org/licenses/.\n",
    "\n",
    "Hoje vamos implementar algoritmos de aprendizagem não-supervisionada para realizar dois agrupamentos, um pelo k-médias (*k-means*) e o outro por aglomeração hierárquica (*hierarchical agglomerative clustering*).\n"
   ]
  },
  {
   "cell_type": "markdown",
   "metadata": {
    "id": "Eoj0IwtEen2X"
   },
   "source": [
    "### Sumário <a class=\"anchor\" id=\"topo\"></a>\n",
    "\n",
    "* [Parte 1: Resolvendo dependências](#parte_01).\n",
    "* [Parte 2: Carregando o conjunto de dados \"breast cancer\"](#parte_02).\n",
    "* [Parte 3: Executando regressão linear em duas variáveis de \"breast cancer\"](#parte_03).\n",
    "* [Parte 4: Avaliando o desempenho da regressão linear](#parte_04).\n",
    "* [Parte 5: Classificando \"breast cancer\" com todas as variáveis](#parte_05)"
   ]
  },
  {
   "cell_type": "markdown",
   "metadata": {
    "id": "HnH8HlRhen2Z"
   },
   "source": [
    "### Parte 1: Resolvendo dependências <a class=\"anchor\" id=\"parte_01\"></a>\n",
    "\n",
    "Aqui carregamos bibliotecas e métodos que serão utilizados ao longo deste caderno.\n",
    "\n",
    "\n"
   ]
  },
  {
   "cell_type": "code",
   "execution_count": null,
   "metadata": {
    "colab": {
     "base_uri": "https://localhost:8080/"
    },
    "id": "MaTT0lUzen2a",
    "outputId": "f6667388-1d8a-404a-ac59-1f89143d2411"
   },
   "outputs": [],
   "source": [
    "!pip install matplotlib\n",
    "import matplotlib.pyplot as plt     \n",
    "%matplotlib inline \n",
    "\n",
    "!pip install numpy\n",
    "import numpy as np\n",
    "\n",
    "!pip install pandas\n",
    "import pandas as pd\n",
    "\n",
    "!pip install seaborn\n",
    "import seaborn as sn\n",
    "\n",
    "!pip install scikit-learn\n",
    "from sklearn import datasets\n",
    "from sklearn import preprocessing\n",
    "from sklearn import utils\n",
    "\n",
    "from sklearn.linear_model import LinearRegression\n"
   ]
  },
  {
   "cell_type": "markdown",
   "metadata": {
    "id": "NZ8RScyfen2f"
   },
   "source": [
    "[Voltar ao sumário.](#topo)\n",
    "\n",
    "### Parte 2: Carregando o conjunto de dados \"breast cancer\"\n",
    "\n",
    "Conjunto de dados clássico de classificação binária (2 classes), com uma amostra de 569 pontos (212 malignos, 357 benignos) e 30 características. \n",
    "\n",
    "\n",
    "<a class=\"anchor\" id=\"parte_02\"></a>"
   ]
  },
  {
   "cell_type": "code",
   "execution_count": null,
   "metadata": {},
   "outputs": [],
   "source": [
    "data = datasets.load_breast_cancer()"
   ]
  },
  {
   "cell_type": "code",
   "execution_count": null,
   "metadata": {},
   "outputs": [],
   "source": [
    "import pandas as pd\n",
    "pd.DataFrame(columns=(data.feature_names.tolist() + ['target']), data=np.c_[data.data, data.target])"
   ]
  },
  {
   "cell_type": "code",
   "execution_count": null,
   "metadata": {
    "colab": {
     "base_uri": "https://localhost:8080/"
    },
    "id": "8zttqUHIen2f",
    "outputId": "74d127c1-9add-4c1b-8c86-4c7d8600737c"
   },
   "outputs": [],
   "source": []
  },
  {
   "cell_type": "markdown",
   "metadata": {
    "id": "-xuQ-QrBen2g"
   },
   "source": [
    "[Voltar ao sumário.](#topo)\n",
    "\n",
    "### Parte 3: Executando regressão linear em duas variáveis de \"breast cancer\" <a class=\"anchor\" id=\"parte_03\"></a>\n",
    "\n",
    "Agora vamos executar o algoritmo de regressão linear sobre duas variáveis de nosso dataset. Vamos escolher as duas primeiras variáveis: raio médio e textura média do tumor.\n"
   ]
  },
  {
   "cell_type": "code",
   "execution_count": null,
   "metadata": {},
   "outputs": [],
   "source": [
    "def plot_dataset(x1, x2, y):\n",
    "    plt.figure(figsize=(5,5))\n",
    "    plt.scatter(x1, x2, c=y)\n",
    "    plt.xlabel('mean radius')\n",
    "    plt.ylabel('mean texture')\n",
    "    plt.title('Conjunto de treinamento')\n",
    "    plt.show()\n",
    "    \n",
    "def plot_model_predictions(model, X_train, X_test, y_train, y_test, plot_predict=False):\n",
    "    plt.figure(figsize=(10,5))\n",
    "\n",
    "    a = - model.coef_[0] / model.coef_[1]\n",
    "    b = - model.intercept_ / model.coef_[1]\n",
    "    \n",
    "    ytrain = y_train\n",
    "    ytest  = y_test \n",
    "    \n",
    "    if plot_predict:\n",
    "        ytrain = model.predict(X_train[:, 0:2])\n",
    "        ytest  = model.predict(X_test[:, 0:2])\n",
    "        \n",
    "        ytrain = np.where(ytrain < 0, -1, 1)\n",
    "        ytest = np.where(ytest < 0, -1, 1)\n",
    "\n",
    "    plt.subplot(121)\n",
    "    plt.scatter(X_train[:, 0], X_train[:, 1], c=ytrain)\n",
    "    plt.plot(np.linspace(-2, 4, 10), a * np.linspace(-2, 4, 10) + b, c= \"yellow\")\n",
    "    plt.xlabel('mean radius')\n",
    "    plt.ylim(-3,6)\n",
    "    plt.ylabel('mean texture')\n",
    "    plt.title('Conjunto de treinamento')\n",
    "\n",
    "    plt.subplot(122)\n",
    "    plt.scatter(X_test[:, 0], X_test[:, 1], c=ytest)\n",
    "    plt.plot(np.linspace(-2, 4, 10), a * np.linspace(-2, 4, 10) + b, c= \"yellow\")\n",
    "    plt.ylim(-3,6)\n",
    "    plt.xlabel('mean radius')\n",
    "    plt.ylabel('mean texture')\n",
    "    plt.title('Conjunto de teste')\n",
    "\n",
    "    plt.show()"
   ]
  },
  {
   "cell_type": "markdown",
   "metadata": {},
   "source": [
    "Antes de realizarmos a regressão, vamos plotar o dataset:"
   ]
  },
  {
   "cell_type": "code",
   "execution_count": null,
   "metadata": {},
   "outputs": [],
   "source": []
  },
  {
   "cell_type": "markdown",
   "metadata": {},
   "source": [
    "Agora vamos treinnar o modelo:"
   ]
  },
  {
   "cell_type": "code",
   "execution_count": null,
   "metadata": {},
   "outputs": [],
   "source": []
  },
  {
   "cell_type": "markdown",
   "metadata": {},
   "source": [
    "Por fim, vamos visualizar os resultados:"
   ]
  },
  {
   "cell_type": "code",
   "execution_count": null,
   "metadata": {
    "scrolled": false
   },
   "outputs": [],
   "source": []
  },
  {
   "cell_type": "markdown",
   "metadata": {
    "id": "udpjdNy0en2i"
   },
   "source": [
    "[Voltar ao sumário.](#topo)\n",
    "\n",
    "### Parte 4: Avaliando o desempenho da regressão linear <a class=\"anchor\" id=\"parte_04\"></a>\n",
    "\n",
    "Para avaliar o desempenho da nossa regressão linear, utilizaremos matrizes de confusão, que é uma maneira eficiente de visualizar os acertos em termos de tipo de erro: falsos positivos (não é câncer mas nosso classificador diz que é) e falsos negativos (um câncer que o classificador deixa de assinalar como tal)."
   ]
  },
  {
   "cell_type": "code",
   "execution_count": null,
   "metadata": {},
   "outputs": [],
   "source": [
    "def plot_confusion_matrix(y, y_pred):\n",
    "    data = {'y': y, 'y_pred': y_pred }\n",
    "    df = pd.DataFrame(data, columns=['y','y_pred'])\n",
    "    cm = pd.crosstab(df['y'], df['y_pred'], rownames=['classe real'], colnames=['classe prevista'])\n",
    "    sn.heatmap(cm, annot=True)\n",
    "    plt.show()"
   ]
  },
  {
   "cell_type": "markdown",
   "metadata": {},
   "source": [
    "Vamos plotar a matriz para o conjunto de treinamento:"
   ]
  },
  {
   "cell_type": "code",
   "execution_count": null,
   "metadata": {
    "colab": {
     "base_uri": "https://localhost:8080/",
     "height": 334
    },
    "id": "zmRfQ19ben2j",
    "outputId": "2cec253c-15e8-4bf0-9485-a7239538488f"
   },
   "outputs": [],
   "source": []
  },
  {
   "cell_type": "markdown",
   "metadata": {},
   "source": [
    "Vamos plotar a matriz para o conjunto de teste:"
   ]
  },
  {
   "cell_type": "code",
   "execution_count": null,
   "metadata": {},
   "outputs": [],
   "source": []
  },
  {
   "cell_type": "markdown",
   "metadata": {
    "id": "wFsp3c5ien2k"
   },
   "source": [
    "[Voltar ao sumário.](#topo)\n",
    "\n",
    "### Parte 5: Classificando \"breast cancer\" com todas as variáveis <a class=\"anchor\" id=\"parte_05\"></a>\n",
    "    \n",
    "Podemos verificar se conseguimos melhorar a classificação acima repetindo a regressão linear utilizando desta vez todas as variáveis."
   ]
  },
  {
   "cell_type": "code",
   "execution_count": null,
   "metadata": {
    "colab": {
     "base_uri": "https://localhost:8080/",
     "height": 497
    },
    "id": "N_7x2ScYen2k",
    "outputId": "7867cc93-ce64-49fa-e863-0ac2651242c9"
   },
   "outputs": [],
   "source": []
  },
  {
   "cell_type": "markdown",
   "metadata": {
    "id": "vDHLAVUNen2m"
   },
   "source": [
    "[Voltar ao sumário.](#topo)\n",
    "\n"
   ]
  }
 ],
 "metadata": {
  "colab": {
   "collapsed_sections": [
    "GCBouAgYen2S",
    "-xuQ-QrBen2g",
    "udpjdNy0en2i",
    "wFsp3c5ien2k",
    "fhtGW_M3en2k"
   ],
   "name": "BSB-2021-EX01.ipynb",
   "provenance": []
  },
  "kernelspec": {
   "display_name": "Python 3 (ipykernel)",
   "language": "python",
   "name": "python3"
  },
  "language_info": {
   "codemirror_mode": {
    "name": "ipython",
    "version": 3
   },
   "file_extension": ".py",
   "mimetype": "text/x-python",
   "name": "python",
   "nbconvert_exporter": "python",
   "pygments_lexer": "ipython3",
   "version": "3.10.6"
  }
 },
 "nbformat": 4,
 "nbformat_minor": 1
}
